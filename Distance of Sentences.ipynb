{
 "cells": [
  {
   "cell_type": "markdown",
   "metadata": {},
   "source": [
    "# 문장 사이의 거리 - 유사도"
   ]
  },
  {
   "cell_type": "code",
   "execution_count": 3,
   "metadata": {},
   "outputs": [],
   "source": [
    "from sklearn.feature_extraction.text import CountVectorizer"
   ]
  },
  {
   "cell_type": "code",
   "execution_count": 4,
   "metadata": {},
   "outputs": [],
   "source": [
    "vectorizer = CountVectorizer(min_df=1)"
   ]
  },
  {
   "cell_type": "markdown",
   "metadata": {},
   "source": [
    "## 훈련용 문장"
   ]
  },
  {
   "cell_type": "code",
   "execution_count": 5,
   "metadata": {},
   "outputs": [],
   "source": [
    "contents = ['상처받은 아이들은 너무 일찍 커버려',\n",
    "            '내가 상처받은 거 아는 사람 불편해',\n",
    "            '잘 사는 사람들은 좋은 사람 되기 쉬워',\n",
    "            '아무 일도 아니야 괜찮아']"
   ]
  },
  {
   "cell_type": "code",
   "execution_count": 6,
   "metadata": {},
   "outputs": [
    {
     "name": "stderr",
     "output_type": "stream",
     "text": [
      "/home/in/venv/nltk/lib/python3.8/site-packages/konlpy/tag/_okt.py:17: UserWarning: \"Twitter\" has changed to \"Okt\" since KoNLPy v0.4.5.\n",
      "  warn('\"Twitter\" has changed to \"Okt\" since KoNLPy v0.4.5.')\n"
     ]
    }
   ],
   "source": [
    "from konlpy.tag import Twitter\n",
    "t = Twitter()"
   ]
  },
  {
   "cell_type": "markdown",
   "metadata": {},
   "source": [
    "## 형태소 분석"
   ]
  },
  {
   "cell_type": "code",
   "execution_count": 7,
   "metadata": {},
   "outputs": [
    {
     "data": {
      "text/plain": [
       "[['상처', '받은', '아이', '들', '은', '너무', '일찍', '커버', '려'],\n",
       " ['내', '가', '상처', '받은', '거', '아는', '사람', '불편해'],\n",
       " ['잘', '사는', '사람', '들', '은', '좋은', '사람', '되기', '쉬워'],\n",
       " ['아무', '일도', '아니야', '괜찮아']]"
      ]
     },
     "execution_count": 7,
     "metadata": {},
     "output_type": "execute_result"
    }
   ],
   "source": [
    "contents_tokens = [t.morphs(row) for row in contents]\n",
    "contents_tokens"
   ]
  },
  {
   "cell_type": "code",
   "execution_count": 8,
   "metadata": {},
   "outputs": [
    {
     "data": {
      "text/plain": [
       "[' 상처 받은 아이 들 은 너무 일찍 커버 려',\n",
       " ' 내 가 상처 받은 거 아는 사람 불편해',\n",
       " ' 잘 사는 사람 들 은 좋은 사람 되기 쉬워',\n",
       " ' 아무 일도 아니야 괜찮아']"
      ]
     },
     "execution_count": 8,
     "metadata": {},
     "output_type": "execute_result"
    }
   ],
   "source": [
    "contents_for_vectorize = []\n",
    "\n",
    "for content in contents_tokens:\n",
    "    sentence = ''\n",
    "    for word in content:\n",
    "        sentence = sentence + ' ' + word\n",
    "    \n",
    "    contents_for_vectorize.append(sentence)\n",
    "\n",
    "contents_for_vectorize"
   ]
  },
  {
   "cell_type": "markdown",
   "metadata": {},
   "source": [
    "## vectorize"
   ]
  },
  {
   "cell_type": "code",
   "execution_count": 9,
   "metadata": {},
   "outputs": [
    {
     "data": {
      "text/plain": [
       "<4x17 sparse matrix of type '<class 'numpy.int64'>'\n",
       "\twith 20 stored elements in Compressed Sparse Row format>"
      ]
     },
     "execution_count": 9,
     "metadata": {},
     "output_type": "execute_result"
    }
   ],
   "source": [
    "X = vectorizer.fit_transform(contents_for_vectorize)\n",
    "X"
   ]
  },
  {
   "cell_type": "code",
   "execution_count": 10,
   "metadata": {},
   "outputs": [
    {
     "data": {
      "text/plain": [
       "(4, 17)"
      ]
     },
     "execution_count": 10,
     "metadata": {},
     "output_type": "execute_result"
    }
   ],
   "source": [
    "num_samples, num_features = X.shape\n",
    "num_samples, num_features"
   ]
  },
  {
   "cell_type": "code",
   "execution_count": 11,
   "metadata": {},
   "outputs": [
    {
     "name": "stderr",
     "output_type": "stream",
     "text": [
      "/home/in/venv/nltk/lib/python3.8/site-packages/sklearn/utils/deprecation.py:87: FutureWarning: Function get_feature_names is deprecated; get_feature_names is deprecated in 1.0 and will be removed in 1.2. Please use get_feature_names_out instead.\n",
      "  warnings.warn(msg, category=FutureWarning)\n"
     ]
    },
    {
     "data": {
      "text/plain": [
       "['괜찮아',\n",
       " '너무',\n",
       " '되기',\n",
       " '받은',\n",
       " '불편해',\n",
       " '사는',\n",
       " '사람',\n",
       " '상처',\n",
       " '쉬워',\n",
       " '아는',\n",
       " '아니야',\n",
       " '아무',\n",
       " '아이',\n",
       " '일도',\n",
       " '일찍',\n",
       " '좋은',\n",
       " '커버']"
      ]
     },
     "execution_count": 11,
     "metadata": {},
     "output_type": "execute_result"
    }
   ],
   "source": [
    "vectorizer.get_feature_names()"
   ]
  },
  {
   "cell_type": "code",
   "execution_count": 16,
   "metadata": {},
   "outputs": [
    {
     "data": {
      "text/plain": [
       "array([[0, 0, 0, 1],\n",
       "       [1, 0, 0, 0],\n",
       "       [0, 0, 1, 0],\n",
       "       [1, 1, 0, 0],\n",
       "       [0, 1, 0, 0],\n",
       "       [0, 0, 1, 0],\n",
       "       [0, 1, 2, 0],\n",
       "       [1, 1, 0, 0],\n",
       "       [0, 0, 1, 0],\n",
       "       [0, 1, 0, 0],\n",
       "       [0, 0, 0, 1],\n",
       "       [0, 0, 0, 1],\n",
       "       [1, 0, 0, 0],\n",
       "       [0, 0, 0, 1],\n",
       "       [1, 0, 0, 0],\n",
       "       [0, 0, 1, 0],\n",
       "       [1, 0, 0, 0]])"
      ]
     },
     "execution_count": 16,
     "metadata": {},
     "output_type": "execute_result"
    }
   ],
   "source": [
    "X.toarray().transpose()"
   ]
  },
  {
   "cell_type": "markdown",
   "metadata": {},
   "source": [
    "## 테스트용 문장"
   ]
  },
  {
   "cell_type": "code",
   "execution_count": 17,
   "metadata": {},
   "outputs": [
    {
     "data": {
      "text/plain": [
       "[' 상처 받기 싫어 괜찮아']"
      ]
     },
     "execution_count": 17,
     "metadata": {},
     "output_type": "execute_result"
    }
   ],
   "source": [
    "new_post = ['상처받기 싫어 괜찮아']\n",
    "new_post_tokens = [t.morphs(row) for row in new_post]\n",
    "\n",
    "new_post_for_vectorize = []\n",
    "\n",
    "for content in new_post_tokens:\n",
    "    sentence = ''\n",
    "    for word in content:\n",
    "        sentence = sentence + ' ' + word\n",
    "    \n",
    "    new_post_for_vectorize.append(sentence)\n",
    "\n",
    "new_post_for_vectorize"
   ]
  },
  {
   "cell_type": "code",
   "execution_count": 18,
   "metadata": {},
   "outputs": [
    {
     "data": {
      "text/plain": [
       "array([[1, 0, 0, 0, 0, 0, 0, 1, 0, 0, 0, 0, 0, 0, 0, 0, 0]])"
      ]
     },
     "execution_count": 18,
     "metadata": {},
     "output_type": "execute_result"
    }
   ],
   "source": [
    "new_post_vec = vectorizer.transform(new_post_for_vectorize)\n",
    "new_post_vec.toarray()"
   ]
  },
  {
   "cell_type": "markdown",
   "metadata": {},
   "source": [
    "## 유클리드 거리"
   ]
  },
  {
   "cell_type": "code",
   "execution_count": 19,
   "metadata": {},
   "outputs": [],
   "source": [
    "import scipy as sp\n",
    "\n",
    "def dist_raw(v1, v2):\n",
    "    delta = v1 - v2\n",
    "    return sp.linalg.norm(delta.toarray())"
   ]
  },
  {
   "cell_type": "code",
   "execution_count": 20,
   "metadata": {},
   "outputs": [
    {
     "data": {
      "text/plain": [
       "[2.449489742783178, 2.23606797749979, 3.1622776601683795, 2.0]"
      ]
     },
     "execution_count": 20,
     "metadata": {},
     "output_type": "execute_result"
    }
   ],
   "source": [
    "dist = [dist_raw(each, new_post_vec) for each in X]\n",
    "dist"
   ]
  },
  {
   "cell_type": "code",
   "execution_count": 21,
   "metadata": {},
   "outputs": [
    {
     "name": "stdout",
     "output_type": "stream",
     "text": [
      "Best post is  3 , dist =  2.0\n",
      "test post is -->  ['상처받기 싫어 괜찮아']\n",
      "best dist post is -->  아무 일도 아니야 괜찮아\n"
     ]
    }
   ],
   "source": [
    "print('Best post is ', dist.index(min(dist)), ', dist = ', min(dist))\n",
    "print('test post is --> ', new_post)\n",
    "print('best dist post is --> ', contents[dist.index(min(dist))])"
   ]
  },
  {
   "cell_type": "markdown",
   "metadata": {},
   "source": [
    "## 유사도 - 벡터 사이의 거리\n",
    "* 결국 중요한건 벡터로 잘 만드는 것\n",
    "* & 만들어진 벡터 사이의 거리를 잘 계산하는 것"
   ]
  },
  {
   "cell_type": "code",
   "execution_count": 22,
   "metadata": {},
   "outputs": [
    {
     "name": "stdout",
     "output_type": "stream",
     "text": [
      "[[0 1 0 1 0 0 0 1 0 0 0 0 1 0 1 0 1]]\n",
      "[[0 0 0 1 1 0 1 1 0 1 0 0 0 0 0 0 0]]\n",
      "[[0 0 1 0 0 1 2 0 1 0 0 0 0 0 0 1 0]]\n",
      "[[1 0 0 0 0 0 0 0 0 0 1 1 0 1 0 0 0]]\n",
      "------------------------\n",
      "[[1 0 0 0 0 0 0 1 0 0 0 0 0 0 0 0 0]]\n"
     ]
    }
   ],
   "source": [
    "for i in range(0, len(contents)):\n",
    "    print(X.getrow(i).toarray())\n",
    "\n",
    "print('------------------------')\n",
    "print(new_post_vec.toarray())"
   ]
  },
  {
   "cell_type": "markdown",
   "metadata": {},
   "source": [
    "# TF-IDF"
   ]
  },
  {
   "cell_type": "code",
   "execution_count": 25,
   "metadata": {},
   "outputs": [],
   "source": [
    "from sklearn.feature_extraction.text import TfidfVectorizer\n",
    "vectorizer = TfidfVectorizer(min_df=1, decode_error='ignore')"
   ]
  },
  {
   "cell_type": "code",
   "execution_count": 26,
   "metadata": {},
   "outputs": [
    {
     "data": {
      "text/plain": [
       "(4, 17)"
      ]
     },
     "execution_count": 26,
     "metadata": {},
     "output_type": "execute_result"
    }
   ],
   "source": [
    "X = vectorizer.fit_transform(contents_for_vectorize)\n",
    "num_samples, num_features = X.shape\n",
    "num_samples, num_features"
   ]
  },
  {
   "cell_type": "code",
   "execution_count": 27,
   "metadata": {},
   "outputs": [
    {
     "data": {
      "text/plain": [
       "array([[0.        , 0.        , 0.        , 0.5       ],\n",
       "       [0.43671931, 0.        , 0.        , 0.        ],\n",
       "       [0.        , 0.        , 0.39264414, 0.        ],\n",
       "       [0.34431452, 0.40104275, 0.        , 0.        ],\n",
       "       [0.        , 0.50867187, 0.        , 0.        ],\n",
       "       [0.        , 0.        , 0.39264414, 0.        ],\n",
       "       [0.        , 0.40104275, 0.6191303 , 0.        ],\n",
       "       [0.34431452, 0.40104275, 0.        , 0.        ],\n",
       "       [0.        , 0.        , 0.39264414, 0.        ],\n",
       "       [0.        , 0.50867187, 0.        , 0.        ],\n",
       "       [0.        , 0.        , 0.        , 0.5       ],\n",
       "       [0.        , 0.        , 0.        , 0.5       ],\n",
       "       [0.43671931, 0.        , 0.        , 0.        ],\n",
       "       [0.        , 0.        , 0.        , 0.5       ],\n",
       "       [0.43671931, 0.        , 0.        , 0.        ],\n",
       "       [0.        , 0.        , 0.39264414, 0.        ],\n",
       "       [0.43671931, 0.        , 0.        , 0.        ]])"
      ]
     },
     "execution_count": 27,
     "metadata": {},
     "output_type": "execute_result"
    }
   ],
   "source": [
    "X.toarray().transpose()"
   ]
  },
  {
   "cell_type": "markdown",
   "metadata": {},
   "source": [
    "## normalize - 거리를 구하는 다른 방법"
   ]
  },
  {
   "cell_type": "code",
   "execution_count": 28,
   "metadata": {},
   "outputs": [],
   "source": [
    "def dist_norm(v1, v2):\n",
    "    v1_normalized = v1 / sp.linalg.norm(v1.toarray())\n",
    "    v2_normalized = v2 / sp.linalg.norm(v2.toarray())\n",
    "\n",
    "    delta = v1_normalized - v2_normalized\n",
    "\n",
    "    return sp.linalg.norm(delta.toarray())"
   ]
  },
  {
   "cell_type": "code",
   "execution_count": 29,
   "metadata": {},
   "outputs": [
    {
     "name": "stdout",
     "output_type": "stream",
     "text": [
      "Best post is  3 , dist =  1.137054624375387\n",
      "test post is -->  ['상처받기 싫어 괜찮아']\n",
      "best dist post is -->  아무 일도 아니야 괜찮아\n"
     ]
    }
   ],
   "source": [
    "dist = [dist_norm(each, new_post_vec) for each in X]\n",
    "\n",
    "print('Best post is ', dist.index(min(dist)), ', dist = ', min(dist))\n",
    "print('test post is --> ', new_post)\n",
    "print('best dist post is --> ', contents[dist.index(min(dist))])"
   ]
  },
  {
   "cell_type": "markdown",
   "metadata": {},
   "source": [
    "# Naver API 이용해서 문장 처리"
   ]
  },
  {
   "cell_type": "code",
   "execution_count": 30,
   "metadata": {},
   "outputs": [],
   "source": [
    "import urllib.request\n",
    "import json\n",
    "import datetime"
   ]
  },
  {
   "cell_type": "code",
   "execution_count": 31,
   "metadata": {},
   "outputs": [],
   "source": [
    "def gen_search_url(api_node, search_text, start_num, disp_num):\n",
    "    base = 'https://openapi.naver.com/v1/search'\n",
    "    node = '/' + api_node + '.json'\n",
    "    param_query = '?query=' + urllib.parse.quote(search_text)\n",
    "    param_start = '&start=' + str(start_num)\n",
    "    param_disp = '&display=' + str(disp_num)\n",
    "\n",
    "    return base + node + param_query + param_start + param_disp"
   ]
  },
  {
   "cell_type": "code",
   "execution_count": 32,
   "metadata": {},
   "outputs": [],
   "source": [
    "def get_result_onpage(url):\n",
    "    request = urllib.request.Request(url)\n",
    "    request.add_header(\"X-Naver-Client-Id\", client_id)\n",
    "    request.add_header(\"X-Naver-Client-Secret\", client_secret)\n",
    "\n",
    "    response = urllib.request.urlopen(request)\n",
    "\n",
    "    print(\"[%s] Url Request Success\" % datetime.datetime.now())\n",
    "    \n",
    "    return json.loads(response.read().decode(\"utf-8\"))\n"
   ]
  },
  {
   "cell_type": "code",
   "execution_count": 35,
   "metadata": {},
   "outputs": [
    {
     "name": "stdout",
     "output_type": "stream",
     "text": [
      "[2022-11-21 14:07:34.446281] Url Request Success\n"
     ]
    },
    {
     "data": {
      "text/plain": [
       "{'lastBuildDate': 'Mon, 21 Nov 2022 14:07:34 +0900',\n",
       " 'total': 248908,\n",
       " 'start': 10,\n",
       " 'display': 10,\n",
       " 'items': [{'title': 'Python <b>파이썬</b> pip 설치 오류',\n",
       "   'link': 'https://kin.naver.com/qna/detail.naver?d1id=1&dirId=104&docId=430026279&qb=7YyM7J207I2s&enc=utf8&section=kin.qna&rank=10&search_sort=0&spq=0',\n",
       "   'description': '<b>파이썬</b> pip 설치하려고 curl https://bootstrap.pypa.io/get-pip.py -o get-pip.py 입력하고 다운로드까지 되는거... 알려주세요  <b>파이썬</b> 실행했을 때 &quot;Python&quot;으로만 출력되는 것은, <b>파이썬</b>이 제대로 설치가 안됐다는... '},\n",
       "  {'title': '<b>파이썬</b> 적분계산',\n",
       "   'link': 'https://kin.naver.com/qna/detail.naver?d1id=1&dirId=10402&docId=432715928&qb=7YyM7J207I2s&enc=utf8&section=kin.qna&rank=11&search_sort=0&spq=0',\n",
       "   'description': '<b>파이썬</b>으로 적분을 계산하는 프로그램을 만들려고 하는데 input 함수를 사용해서 피적분함수를 입력받을... <b>파이썬</b>에서 적분이든 일련의 수식을 계산할 때 lamba 함수를 많이 사용합니다. fx = lambda x : x * 3 + 1 fx(5)... '},\n",
       "  {'title': '비쥬얼 스튜디오 <b>파이썬</b>',\n",
       "   'link': 'https://kin.naver.com/qna/detail.naver?d1id=1&dirId=104&docId=430635427&qb=7YyM7J207I2s&enc=utf8&section=kin.qna&rank=12&search_sort=0&spq=0',\n",
       "   'description': '<b>파이썬</b>하고 셀레니움 이용해서 자동으로 유튜브 영상 트는코드를 작성했는데 터미널에서 실행시키는법을... ctrl + F5 해서 실행하시면 될꺼같습니다. 터미널에서 실행한다고 하신다면, python <b>파이썬</b>파일.py 로 실행하시면 됩니다. '},\n",
       "  {'title': '<b>파이썬</b>과 VScode의 차이가 무엇인가요?',\n",
       "   'link': 'https://kin.naver.com/qna/detail.naver?d1id=1&dirId=10402&docId=430636422&qb=7YyM7J207I2s&enc=utf8&section=kin.qna&rank=13&search_sort=0&spq=0',\n",
       "   'description': '... 사람은 <b>파이썬</b>을 써서 둘 중 어떤걸 써야할지, 두 프로그램의 쓰임새는 무엇인지 (예: <b>파이썬</b>은 ~~개발할때... 하고 싶어서 여쭈어봅니다 ㅠㅠ vscode는 소스 코드 편집기이고 소스코드에는 <b>파이썬</b> 자바 등등이 되겠습니다~ '},\n",
       "  {'title': '<b>파이썬</b> 데이터 분석',\n",
       "   'link': 'https://kin.naver.com/qna/detail.naver?d1id=1&dirId=104&docId=431035633&qb=7YyM7J207I2s&enc=utf8&section=kin.qna&rank=14&search_sort=0&spq=0',\n",
       "   'description': '현재 코랩으로 <b>파이썬</b> 데이터 분석중인데 .query()만 작성하면 이런 오류가 뜨는데 문제가 뭘까요..? 제가... 오류: Python keyword not valid identifier in numexpr query (mpg는 데이터프레임 명입니다.) class는 <b>파이썬</b>... '},\n",
       "  {'title': '<b>파이썬</b> (feat. unity)',\n",
       "   'link': 'https://kin.naver.com/qna/detail.naver?d1id=1&dirId=10403&docId=431228166&qb=7YyM7J207I2s&enc=utf8&section=kin.qna&rank=15&search_sort=0&spq=0',\n",
       "   'description': '현재 <b>파이썬</b> 기초 끝내고 진로를 프로그래밍 쪽으로 생각 중인 중3인데요, 현재... 현재 <b>파이썬</b>을 배우면서도 이걸 게임을 만들 때 어느 정도까지 써먹을 수... <b>파이썬</b>은 언어이고 유니티는 툴?이니까 언어인 <b>파이썬</b>을 사용해여 유니티로... '},\n",
       "  {'title': '<b>파이썬</b> 해킹',\n",
       "   'link': 'https://kin.naver.com/qna/detail.naver?d1id=1&dirId=11001&docId=429670244&qb=7YyM7J207I2s&enc=utf8&section=kin.qna&rank=16&search_sort=0&spq=0',\n",
       "   'description': '친구가 <b>파이썬</b> 어쩌고저쩌고 해서 카톡으로 ip털고 비번 턴다고 협박하는데... <b>파이썬</b>으로 만든 프로그램을 실행시키게 하면 링크접속으로 리다이렉트... <b>파이썬</b>은 프로그램을 개발하기 위한 언어입니다. 창의력만 있다면 어떤방식이든... '},\n",
       "  {'title': '<b>파이썬</b> 손글씨 인식',\n",
       "   'link': 'https://kin.naver.com/qna/detail.naver?d1id=1&dirId=10402&docId=431719759&qb=7YyM7J207I2s&enc=utf8&section=kin.qna&rank=17&search_sort=0&spq=0',\n",
       "   'description': '<b>파이썬</b> 손글씨 이미지 인식을 하고있는데 제가 0-9까지는 다 해봤는데 두자리수를 해보려고하는데 어떻게 하는지... 아시는 <b>파이썬</b> 고수님들 도와주세요..!!!!  <b>파이썬</b> 고수가 아니라 OCR 을 해본 경험이 있는 사람을 찾아야 합니다. OCR... '},\n",
       "  {'title': '<b>파이썬</b> for문을 while문으로 질문',\n",
       "   'link': 'https://kin.naver.com/qna/detail.naver?d1id=1&dirId=10402&docId=432500644&qb=7YyM7J207I2s&enc=utf8&section=kin.qna&rank=18&search_sort=0&spq=0',\n",
       "   'description': '안녕하세요 <b>파이썬</b> 왕초보 질문입니다 아래는 터틀을 for문 활용으로... 과제에요ㅜㅜ <b>파이썬</b> 고수님들께 도움 요청해봅니다 감사합니다  i=0... 있는 내용 그대로 # i+=1#move+=30 밑에 넣기 #<b>파이썬</b> #python #for문 #while문'},\n",
       "  {'title': '<b>파이썬</b>',\n",
       "   'link': 'https://kin.naver.com/qna/detail.naver?d1id=1&dirId=10402&docId=430684798&qb=7YyM7J207I2s&enc=utf8&section=kin.qna&rank=19&search_sort=0&spq=0',\n",
       "   'description': '<b>파이썬</b> 알려주세요ㅠㅠ 내공 드릴게요 참고 바랍니다. from random import * A = [] B = [] while True: num = randint(1, 10) if num not in A: A.append(num) if len(A) == 5: break while True: num = randint... '}]}"
      ]
     },
     "execution_count": 35,
     "metadata": {},
     "output_type": "execute_result"
    }
   ],
   "source": [
    "client_id = 'cBndwqBBOq6XvgRIK5yf'\n",
    "client_secret = '_CAloMhNJh'\n",
    "\n",
    "url = gen_search_url('kin', '파이썬', 10, 10)\n",
    "one_result = get_result_onpage(url)\n",
    "one_result"
   ]
  },
  {
   "cell_type": "code",
   "execution_count": 36,
   "metadata": {},
   "outputs": [
    {
     "data": {
      "text/plain": [
       "5"
      ]
     },
     "execution_count": 36,
     "metadata": {},
     "output_type": "execute_result"
    }
   ],
   "source": [
    "len(one_result)"
   ]
  },
  {
   "cell_type": "code",
   "execution_count": 37,
   "metadata": {},
   "outputs": [
    {
     "data": {
      "text/plain": [
       "'<b>파이썬</b> pip 설치하려고 curl https://bootstrap.pypa.io/get-pip.py -o get-pip.py 입력하고 다운로드까지 되는거... 알려주세요  <b>파이썬</b> 실행했을 때 &quot;Python&quot;으로만 출력되는 것은, <b>파이썬</b>이 제대로 설치가 안됐다는... '"
      ]
     },
     "execution_count": 37,
     "metadata": {},
     "output_type": "execute_result"
    }
   ],
   "source": [
    "one_result['items'][0]['description']"
   ]
  },
  {
   "cell_type": "markdown",
   "metadata": {},
   "source": [
    "## 태그 제거"
   ]
  },
  {
   "cell_type": "code",
   "execution_count": 38,
   "metadata": {},
   "outputs": [],
   "source": [
    "def delete_tag(input_str):\n",
    "    input_str = input_str.replace('<b>', '')\n",
    "    input_str = input_str.replace('</b>', '')\n",
    "\n",
    "    return input_str"
   ]
  },
  {
   "cell_type": "code",
   "execution_count": 39,
   "metadata": {},
   "outputs": [],
   "source": [
    "def get_description(pages):\n",
    "    contents = []\n",
    "    for sentences in pages['items']:\n",
    "        contents.append(delete_tag(sentences['description']))\n",
    "\n",
    "    return contents"
   ]
  },
  {
   "cell_type": "markdown",
   "metadata": {},
   "source": [
    "## 컨텐츠를 list로"
   ]
  },
  {
   "cell_type": "code",
   "execution_count": 40,
   "metadata": {},
   "outputs": [
    {
     "data": {
      "text/plain": [
       "['파이썬 pip 설치하려고 curl https://bootstrap.pypa.io/get-pip.py -o get-pip.py 입력하고 다운로드까지 되는거... 알려주세요  파이썬 실행했을 때 &quot;Python&quot;으로만 출력되는 것은, 파이썬이 제대로 설치가 안됐다는... ',\n",
       " '파이썬으로 적분을 계산하는 프로그램을 만들려고 하는데 input 함수를 사용해서 피적분함수를 입력받을... 파이썬에서 적분이든 일련의 수식을 계산할 때 lamba 함수를 많이 사용합니다. fx = lambda x : x * 3 + 1 fx(5)... ',\n",
       " '파이썬하고 셀레니움 이용해서 자동으로 유튜브 영상 트는코드를 작성했는데 터미널에서 실행시키는법을... ctrl + F5 해서 실행하시면 될꺼같습니다. 터미널에서 실행한다고 하신다면, python 파이썬파일.py 로 실행하시면 됩니다. ',\n",
       " '... 사람은 파이썬을 써서 둘 중 어떤걸 써야할지, 두 프로그램의 쓰임새는 무엇인지 (예: 파이썬은 ~~개발할때... 하고 싶어서 여쭈어봅니다 ㅠㅠ vscode는 소스 코드 편집기이고 소스코드에는 파이썬 자바 등등이 되겠습니다~ ',\n",
       " '현재 코랩으로 파이썬 데이터 분석중인데 .query()만 작성하면 이런 오류가 뜨는데 문제가 뭘까요..? 제가... 오류: Python keyword not valid identifier in numexpr query (mpg는 데이터프레임 명입니다.) class는 파이썬... ',\n",
       " '현재 파이썬 기초 끝내고 진로를 프로그래밍 쪽으로 생각 중인 중3인데요, 현재... 현재 파이썬을 배우면서도 이걸 게임을 만들 때 어느 정도까지 써먹을 수... 파이썬은 언어이고 유니티는 툴?이니까 언어인 파이썬을 사용해여 유니티로... ',\n",
       " '친구가 파이썬 어쩌고저쩌고 해서 카톡으로 ip털고 비번 턴다고 협박하는데... 파이썬으로 만든 프로그램을 실행시키게 하면 링크접속으로 리다이렉트... 파이썬은 프로그램을 개발하기 위한 언어입니다. 창의력만 있다면 어떤방식이든... ',\n",
       " '파이썬 손글씨 이미지 인식을 하고있는데 제가 0-9까지는 다 해봤는데 두자리수를 해보려고하는데 어떻게 하는지... 아시는 파이썬 고수님들 도와주세요..!!!!  파이썬 고수가 아니라 OCR 을 해본 경험이 있는 사람을 찾아야 합니다. OCR... ',\n",
       " '안녕하세요 파이썬 왕초보 질문입니다 아래는 터틀을 for문 활용으로... 과제에요ㅜㅜ 파이썬 고수님들께 도움 요청해봅니다 감사합니다  i=0... 있는 내용 그대로 # i+=1#move+=30 밑에 넣기 #파이썬 #python #for문 #while문',\n",
       " '파이썬 알려주세요ㅠㅠ 내공 드릴게요 참고 바랍니다. from random import * A = [] B = [] while True: num = randint(1, 10) if num not in A: A.append(num) if len(A) == 5: break while True: num = randint... ']"
      ]
     },
     "execution_count": 40,
     "metadata": {},
     "output_type": "execute_result"
    }
   ],
   "source": [
    "contents = get_description(one_result)\n",
    "contents"
   ]
  },
  {
   "cell_type": "markdown",
   "metadata": {},
   "source": [
    "## 형태소 분석"
   ]
  },
  {
   "cell_type": "code",
   "execution_count": 44,
   "metadata": {},
   "outputs": [],
   "source": [
    "from sklearn.feature_extraction.text import CountVectorizer\n",
    "from konlpy.tag import Okt\n",
    "\n",
    "t = Okt()\n",
    "vectorizer = CountVectorizer(min_df = 1)"
   ]
  },
  {
   "cell_type": "code",
   "execution_count": 45,
   "metadata": {},
   "outputs": [
    {
     "data": {
      "text/plain": [
       "[['파이썬',\n",
       "  'pip',\n",
       "  '설치',\n",
       "  '하려고',\n",
       "  'curl',\n",
       "  'https://bootstrap.pypa.io/get-pip.py',\n",
       "  '-',\n",
       "  'o',\n",
       "  'get',\n",
       "  '-',\n",
       "  'pip',\n",
       "  '.',\n",
       "  'py',\n",
       "  '입력',\n",
       "  '하고',\n",
       "  '다운로드',\n",
       "  '까지',\n",
       "  '되는거',\n",
       "  '...',\n",
       "  '알려주세요',\n",
       "  '파이썬',\n",
       "  '실행',\n",
       "  '했을',\n",
       "  '때',\n",
       "  '&',\n",
       "  'quot',\n",
       "  ';',\n",
       "  'Python',\n",
       "  '&',\n",
       "  'quot',\n",
       "  ';',\n",
       "  '으로만',\n",
       "  '출력',\n",
       "  '되는',\n",
       "  '것',\n",
       "  '은',\n",
       "  ',',\n",
       "  '파이썬',\n",
       "  '이',\n",
       "  '제대로',\n",
       "  '설치',\n",
       "  '가',\n",
       "  '안',\n",
       "  '됐다는',\n",
       "  '...'],\n",
       " ['파이썬',\n",
       "  '으로',\n",
       "  '적분',\n",
       "  '을',\n",
       "  '계산',\n",
       "  '하는',\n",
       "  '프로그램',\n",
       "  '을',\n",
       "  '만들려고',\n",
       "  '하는데',\n",
       "  'input',\n",
       "  '함수',\n",
       "  '를',\n",
       "  '사용',\n",
       "  '해서',\n",
       "  '피',\n",
       "  '적',\n",
       "  '분함수를',\n",
       "  '입력',\n",
       "  '받을',\n",
       "  '...',\n",
       "  '파이썬',\n",
       "  '에서',\n",
       "  '적분',\n",
       "  '이든',\n",
       "  '일련',\n",
       "  '의',\n",
       "  '수식',\n",
       "  '을',\n",
       "  '계산',\n",
       "  '할',\n",
       "  '때',\n",
       "  'lamba',\n",
       "  '함수',\n",
       "  '를',\n",
       "  '많이',\n",
       "  '사용',\n",
       "  '합니다',\n",
       "  '.',\n",
       "  'fx',\n",
       "  '=',\n",
       "  'lambda',\n",
       "  'x',\n",
       "  ':',\n",
       "  'x',\n",
       "  '*',\n",
       "  '3',\n",
       "  '+',\n",
       "  '1',\n",
       "  'fx',\n",
       "  '(',\n",
       "  '5',\n",
       "  ')...'],\n",
       " ['파이썬',\n",
       "  '하고',\n",
       "  '셀레니움',\n",
       "  '이용',\n",
       "  '해서',\n",
       "  '자동',\n",
       "  '으로',\n",
       "  '유튜브',\n",
       "  '영상',\n",
       "  '트는',\n",
       "  '코드',\n",
       "  '를',\n",
       "  '작성',\n",
       "  '했는데',\n",
       "  '터미널',\n",
       "  '에서',\n",
       "  '실행',\n",
       "  '시키는',\n",
       "  '법',\n",
       "  '을',\n",
       "  '...',\n",
       "  'ctrl',\n",
       "  '+',\n",
       "  'F',\n",
       "  '5',\n",
       "  '해서',\n",
       "  '실행',\n",
       "  '하시면',\n",
       "  '될꺼',\n",
       "  '같습니다',\n",
       "  '.',\n",
       "  '터미널',\n",
       "  '에서',\n",
       "  '실행',\n",
       "  '한다고',\n",
       "  '하신다면',\n",
       "  ',',\n",
       "  'python',\n",
       "  '파이썬',\n",
       "  '파일',\n",
       "  '.',\n",
       "  'py',\n",
       "  '로',\n",
       "  '실행',\n",
       "  '하시면',\n",
       "  '됩니다',\n",
       "  '.'],\n",
       " ['...',\n",
       "  '사람',\n",
       "  '은',\n",
       "  '파이썬',\n",
       "  '을',\n",
       "  '써서',\n",
       "  '둘',\n",
       "  '중',\n",
       "  '어떤',\n",
       "  '걸',\n",
       "  '써야',\n",
       "  '할지',\n",
       "  ',',\n",
       "  '두',\n",
       "  '프로그램',\n",
       "  '의',\n",
       "  '쓰임',\n",
       "  '새는',\n",
       "  '무엇',\n",
       "  '인지',\n",
       "  '(',\n",
       "  '예',\n",
       "  ':',\n",
       "  '파이썬',\n",
       "  '은',\n",
       "  '~~',\n",
       "  '개발',\n",
       "  '할',\n",
       "  '때',\n",
       "  '...',\n",
       "  '하고',\n",
       "  '싶어서',\n",
       "  '여쭈어',\n",
       "  '봅니다',\n",
       "  'ㅠㅠ',\n",
       "  'vscode',\n",
       "  '는',\n",
       "  '소스',\n",
       "  '코드',\n",
       "  '편집',\n",
       "  '기이',\n",
       "  '고',\n",
       "  '소스코드',\n",
       "  '에는',\n",
       "  '파이썬',\n",
       "  '자바',\n",
       "  '등등',\n",
       "  '이',\n",
       "  '되겠습니다',\n",
       "  '~'],\n",
       " ['현재',\n",
       "  '코랩',\n",
       "  '으로',\n",
       "  '파이썬',\n",
       "  '데이터',\n",
       "  '분석',\n",
       "  '중',\n",
       "  '인데',\n",
       "  '.',\n",
       "  'query',\n",
       "  '()',\n",
       "  '만',\n",
       "  '작성',\n",
       "  '하면',\n",
       "  '이런',\n",
       "  '오류',\n",
       "  '가',\n",
       "  '뜨는데',\n",
       "  '문제',\n",
       "  '가',\n",
       "  '뭘',\n",
       "  '까요',\n",
       "  '..?',\n",
       "  '제',\n",
       "  '가',\n",
       "  '...',\n",
       "  '오류',\n",
       "  ':',\n",
       "  'Python',\n",
       "  'keyword',\n",
       "  'not',\n",
       "  'valid',\n",
       "  'identifier',\n",
       "  'in',\n",
       "  'numexpr',\n",
       "  'query',\n",
       "  '(',\n",
       "  'mpg',\n",
       "  '는',\n",
       "  '데이터',\n",
       "  '프레임',\n",
       "  '명',\n",
       "  '입니다',\n",
       "  '.)',\n",
       "  'class',\n",
       "  '는',\n",
       "  '파이썬',\n",
       "  '...'],\n",
       " ['현재',\n",
       "  '파이썬',\n",
       "  '기초',\n",
       "  '끝내고',\n",
       "  '진로',\n",
       "  '를',\n",
       "  '프로그래밍',\n",
       "  '쪽',\n",
       "  '으로',\n",
       "  '생각',\n",
       "  '중인',\n",
       "  '중',\n",
       "  '3',\n",
       "  '인데요',\n",
       "  ',',\n",
       "  '현재',\n",
       "  '...',\n",
       "  '현재',\n",
       "  '파이썬',\n",
       "  '을',\n",
       "  '배우면서도',\n",
       "  '이',\n",
       "  '걸',\n",
       "  '게임',\n",
       "  '을',\n",
       "  '만들',\n",
       "  '때',\n",
       "  '어느',\n",
       "  '정도',\n",
       "  '까지',\n",
       "  '써',\n",
       "  '먹을',\n",
       "  '수',\n",
       "  '...',\n",
       "  '파이썬',\n",
       "  '은',\n",
       "  '언어',\n",
       "  '이고',\n",
       "  '유니티',\n",
       "  '는',\n",
       "  '툴',\n",
       "  '?',\n",
       "  '이니까',\n",
       "  '언어',\n",
       "  '인',\n",
       "  '파이썬',\n",
       "  '을',\n",
       "  '사용',\n",
       "  '해여',\n",
       "  '유니티',\n",
       "  '로',\n",
       "  '...'],\n",
       " ['친구',\n",
       "  '가',\n",
       "  '파이썬',\n",
       "  '어쩌고저쩌고',\n",
       "  '해서',\n",
       "  '카톡',\n",
       "  '으로',\n",
       "  'ip',\n",
       "  '털고',\n",
       "  '비번',\n",
       "  '턴다',\n",
       "  '고',\n",
       "  '협박',\n",
       "  '하는데',\n",
       "  '...',\n",
       "  '파이썬',\n",
       "  '으로',\n",
       "  '만든',\n",
       "  '프로그램',\n",
       "  '을',\n",
       "  '실행',\n",
       "  '시키게',\n",
       "  '하면',\n",
       "  '링크',\n",
       "  '접속',\n",
       "  '으로',\n",
       "  '리다이렉트',\n",
       "  '...',\n",
       "  '파이썬',\n",
       "  '은',\n",
       "  '프로그램',\n",
       "  '을',\n",
       "  '개발',\n",
       "  '하기',\n",
       "  '위',\n",
       "  '한',\n",
       "  '언어',\n",
       "  '입니다',\n",
       "  '.',\n",
       "  '창의력',\n",
       "  '만',\n",
       "  '있다면',\n",
       "  '어떤',\n",
       "  '방식',\n",
       "  '이든',\n",
       "  '...'],\n",
       " ['파이썬',\n",
       "  '손글씨',\n",
       "  '이미지',\n",
       "  '인식',\n",
       "  '을',\n",
       "  '하고있는데',\n",
       "  '제',\n",
       "  '가',\n",
       "  '0-9',\n",
       "  '까지는',\n",
       "  '다',\n",
       "  '해봤는데',\n",
       "  '두자',\n",
       "  '리수',\n",
       "  '를',\n",
       "  '해보려고하는데',\n",
       "  '어떻게',\n",
       "  '하는지',\n",
       "  '...',\n",
       "  '아시',\n",
       "  '는',\n",
       "  '파이썬',\n",
       "  '고수',\n",
       "  '님',\n",
       "  '들',\n",
       "  '도와주세요',\n",
       "  '..!!!!',\n",
       "  '파이썬',\n",
       "  '고수',\n",
       "  '가',\n",
       "  '아니라',\n",
       "  'OCR',\n",
       "  '을',\n",
       "  '해본',\n",
       "  '경험',\n",
       "  '이',\n",
       "  '있는',\n",
       "  '사람',\n",
       "  '을',\n",
       "  '찾아야',\n",
       "  '합니다',\n",
       "  '.',\n",
       "  'OCR',\n",
       "  '...'],\n",
       " ['안녕하세요',\n",
       "  '파이썬',\n",
       "  '왕초보',\n",
       "  '질문',\n",
       "  '입니다',\n",
       "  '아래',\n",
       "  '는',\n",
       "  '터틀',\n",
       "  '을',\n",
       "  'for',\n",
       "  '문',\n",
       "  '활용',\n",
       "  '으로',\n",
       "  '...',\n",
       "  '과제',\n",
       "  '에요',\n",
       "  'ㅜㅜ',\n",
       "  '파이썬',\n",
       "  '고수',\n",
       "  '님',\n",
       "  '들께',\n",
       "  '도움',\n",
       "  '요청',\n",
       "  '해봅니다',\n",
       "  '감사합니다',\n",
       "  'i',\n",
       "  '=',\n",
       "  '0',\n",
       "  '...',\n",
       "  '있는',\n",
       "  '내용',\n",
       "  '그대로',\n",
       "  '#',\n",
       "  'i',\n",
       "  '+=',\n",
       "  '1',\n",
       "  '#',\n",
       "  'move',\n",
       "  '+=',\n",
       "  '30',\n",
       "  '밑',\n",
       "  '에',\n",
       "  '넣기',\n",
       "  '#파이썬',\n",
       "  '#python',\n",
       "  '#for문',\n",
       "  '#while문'],\n",
       " ['파이썬',\n",
       "  '알려주세요',\n",
       "  'ㅠㅠ',\n",
       "  '내공',\n",
       "  '드릴게요',\n",
       "  '참고',\n",
       "  '바랍니다',\n",
       "  '.',\n",
       "  'from',\n",
       "  'random',\n",
       "  'import',\n",
       "  '*',\n",
       "  'A',\n",
       "  '=',\n",
       "  '[]',\n",
       "  'B',\n",
       "  '=',\n",
       "  '[]',\n",
       "  'while',\n",
       "  'True',\n",
       "  ':',\n",
       "  'num',\n",
       "  '=',\n",
       "  'randint',\n",
       "  '(',\n",
       "  '1',\n",
       "  ',',\n",
       "  '10',\n",
       "  ')',\n",
       "  'if',\n",
       "  'num',\n",
       "  'not',\n",
       "  'in',\n",
       "  'A',\n",
       "  ':',\n",
       "  'A',\n",
       "  '.',\n",
       "  'append',\n",
       "  '(',\n",
       "  'num',\n",
       "  ')',\n",
       "  'if',\n",
       "  'len',\n",
       "  '(',\n",
       "  'A',\n",
       "  ')',\n",
       "  '==',\n",
       "  '5',\n",
       "  ':',\n",
       "  'break',\n",
       "  'while',\n",
       "  'True',\n",
       "  ':',\n",
       "  'num',\n",
       "  '=',\n",
       "  'randint',\n",
       "  '...']]"
      ]
     },
     "execution_count": 45,
     "metadata": {},
     "output_type": "execute_result"
    }
   ],
   "source": [
    "contents_tokens = [t.morphs(row) for row in contents]\n",
    "contents_tokens"
   ]
  },
  {
   "cell_type": "code",
   "execution_count": 47,
   "metadata": {},
   "outputs": [
    {
     "data": {
      "text/plain": [
       "[' 파이썬 pip 설치 하려고 curl https://bootstrap.pypa.io/get-pip.py - o get - pip . py 입력 하고 다운로드 까지 되는거 ... 알려주세요 파이썬 실행 했을 때 & quot ; Python & quot ; 으로만 출력 되는 것 은 , 파이썬 이 제대로 설치 가 안 됐다는 ...',\n",
       " ' 파이썬 으로 적분 을 계산 하는 프로그램 을 만들려고 하는데 input 함수 를 사용 해서 피 적 분함수를 입력 받을 ... 파이썬 에서 적분 이든 일련 의 수식 을 계산 할 때 lamba 함수 를 많이 사용 합니다 . fx = lambda x : x * 3 + 1 fx ( 5 )...',\n",
       " ' 파이썬 하고 셀레니움 이용 해서 자동 으로 유튜브 영상 트는 코드 를 작성 했는데 터미널 에서 실행 시키는 법 을 ... ctrl + F 5 해서 실행 하시면 될꺼 같습니다 . 터미널 에서 실행 한다고 하신다면 , python 파이썬 파일 . py 로 실행 하시면 됩니다 .',\n",
       " ' ... 사람 은 파이썬 을 써서 둘 중 어떤 걸 써야 할지 , 두 프로그램 의 쓰임 새는 무엇 인지 ( 예 : 파이썬 은 ~~ 개발 할 때 ... 하고 싶어서 여쭈어 봅니다 ㅠㅠ vscode 는 소스 코드 편집 기이 고 소스코드 에는 파이썬 자바 등등 이 되겠습니다 ~',\n",
       " ' 현재 코랩 으로 파이썬 데이터 분석 중 인데 . query () 만 작성 하면 이런 오류 가 뜨는데 문제 가 뭘 까요 ..? 제 가 ... 오류 : Python keyword not valid identifier in numexpr query ( mpg 는 데이터 프레임 명 입니다 .) class 는 파이썬 ...',\n",
       " ' 현재 파이썬 기초 끝내고 진로 를 프로그래밍 쪽 으로 생각 중인 중 3 인데요 , 현재 ... 현재 파이썬 을 배우면서도 이 걸 게임 을 만들 때 어느 정도 까지 써 먹을 수 ... 파이썬 은 언어 이고 유니티 는 툴 ? 이니까 언어 인 파이썬 을 사용 해여 유니티 로 ...',\n",
       " ' 친구 가 파이썬 어쩌고저쩌고 해서 카톡 으로 ip 털고 비번 턴다 고 협박 하는데 ... 파이썬 으로 만든 프로그램 을 실행 시키게 하면 링크 접속 으로 리다이렉트 ... 파이썬 은 프로그램 을 개발 하기 위 한 언어 입니다 . 창의력 만 있다면 어떤 방식 이든 ...',\n",
       " ' 파이썬 손글씨 이미지 인식 을 하고있는데 제 가 0-9 까지는 다 해봤는데 두자 리수 를 해보려고하는데 어떻게 하는지 ... 아시 는 파이썬 고수 님 들 도와주세요 ..!!!! 파이썬 고수 가 아니라 OCR 을 해본 경험 이 있는 사람 을 찾아야 합니다 . OCR ...',\n",
       " ' 안녕하세요 파이썬 왕초보 질문 입니다 아래 는 터틀 을 for 문 활용 으로 ... 과제 에요 ㅜㅜ 파이썬 고수 님 들께 도움 요청 해봅니다 감사합니다 i = 0 ... 있는 내용 그대로 # i += 1 # move += 30 밑 에 넣기 #파이썬 #python #for문 #while문',\n",
       " ' 파이썬 알려주세요 ㅠㅠ 내공 드릴게요 참고 바랍니다 . from random import * A = [] B = [] while True : num = randint ( 1 , 10 ) if num not in A : A . append ( num ) if len ( A ) == 5 : break while True : num = randint ...']"
      ]
     },
     "execution_count": 47,
     "metadata": {},
     "output_type": "execute_result"
    }
   ],
   "source": [
    "contents_for_vectorize = []\n",
    "\n",
    "for content in contents_tokens:\n",
    "    sentence = ''\n",
    "    for word in content:\n",
    "        sentence = sentence + ' ' + word\n",
    "\n",
    "    contents_for_vectorize.append(sentence)\n",
    "\n",
    "contents_for_vectorize"
   ]
  },
  {
   "cell_type": "code",
   "execution_count": 48,
   "metadata": {},
   "outputs": [
    {
     "data": {
      "text/plain": [
       "<10x205 sparse matrix of type '<class 'numpy.int64'>'\n",
       "\twith 254 stored elements in Compressed Sparse Row format>"
      ]
     },
     "execution_count": 48,
     "metadata": {},
     "output_type": "execute_result"
    }
   ],
   "source": [
    "X = vectorizer.fit_transform(contents_for_vectorize)\n",
    "X"
   ]
  },
  {
   "cell_type": "code",
   "execution_count": 49,
   "metadata": {},
   "outputs": [
    {
     "data": {
      "text/plain": [
       "(10, 205)"
      ]
     },
     "execution_count": 49,
     "metadata": {},
     "output_type": "execute_result"
    }
   ],
   "source": [
    "num_samples, num_features = X.shape\n",
    "num_samples, num_features"
   ]
  },
  {
   "cell_type": "code",
   "execution_count": 50,
   "metadata": {},
   "outputs": [
    {
     "name": "stderr",
     "output_type": "stream",
     "text": [
      "/home/in/venv/nltk/lib/python3.8/site-packages/sklearn/utils/deprecation.py:87: FutureWarning: Function get_feature_names is deprecated; get_feature_names is deprecated in 1.0 and will be removed in 1.2. Please use get_feature_names_out instead.\n",
      "  warnings.warn(msg, category=FutureWarning)\n"
     ]
    },
    {
     "data": {
      "text/plain": [
       "['10',\n",
       " '30',\n",
       " 'append',\n",
       " 'bootstrap',\n",
       " 'break',\n",
       " 'class',\n",
       " 'ctrl',\n",
       " 'curl',\n",
       " 'for',\n",
       " 'for문',\n",
       " 'from',\n",
       " 'fx',\n",
       " 'get',\n",
       " 'https',\n",
       " 'identifier',\n",
       " 'if',\n",
       " 'import',\n",
       " 'in',\n",
       " 'input',\n",
       " 'io',\n",
       " 'ip',\n",
       " 'keyword',\n",
       " 'lamba',\n",
       " 'lambda',\n",
       " 'len',\n",
       " 'move',\n",
       " 'mpg',\n",
       " 'not',\n",
       " 'num',\n",
       " 'numexpr',\n",
       " 'ocr',\n",
       " 'pip',\n",
       " 'py',\n",
       " 'pypa',\n",
       " 'python',\n",
       " 'query',\n",
       " 'quot',\n",
       " 'randint',\n",
       " 'random',\n",
       " 'true',\n",
       " 'valid',\n",
       " 'vscode',\n",
       " 'while',\n",
       " 'while문',\n",
       " 'ㅜㅜ',\n",
       " 'ㅠㅠ',\n",
       " '감사합니다',\n",
       " '같습니다',\n",
       " '개발',\n",
       " '게임',\n",
       " '경험',\n",
       " '계산',\n",
       " '고수',\n",
       " '과제',\n",
       " '그대로',\n",
       " '기이',\n",
       " '기초',\n",
       " '까요',\n",
       " '까지',\n",
       " '까지는',\n",
       " '끝내고',\n",
       " '내공',\n",
       " '내용',\n",
       " '넣기',\n",
       " '다운로드',\n",
       " '데이터',\n",
       " '도와주세요',\n",
       " '도움',\n",
       " '됐다는',\n",
       " '되겠습니다',\n",
       " '되는',\n",
       " '되는거',\n",
       " '될꺼',\n",
       " '됩니다',\n",
       " '두자',\n",
       " '드릴게요',\n",
       " '들께',\n",
       " '등등',\n",
       " '뜨는데',\n",
       " '리다이렉트',\n",
       " '리수',\n",
       " '링크',\n",
       " '만든',\n",
       " '만들',\n",
       " '만들려고',\n",
       " '많이',\n",
       " '먹을',\n",
       " '무엇',\n",
       " '문제',\n",
       " '바랍니다',\n",
       " '받을',\n",
       " '방식',\n",
       " '배우면서도',\n",
       " '봅니다',\n",
       " '분석',\n",
       " '분함수를',\n",
       " '비번',\n",
       " '사람',\n",
       " '사용',\n",
       " '새는',\n",
       " '생각',\n",
       " '설치',\n",
       " '셀레니움',\n",
       " '소스',\n",
       " '소스코드',\n",
       " '손글씨',\n",
       " '수식',\n",
       " '시키게',\n",
       " '시키는',\n",
       " '실행',\n",
       " '싶어서',\n",
       " '써서',\n",
       " '써야',\n",
       " '쓰임',\n",
       " '아니라',\n",
       " '아래',\n",
       " '아시',\n",
       " '안녕하세요',\n",
       " '알려주세요',\n",
       " '어느',\n",
       " '어떤',\n",
       " '어떻게',\n",
       " '어쩌고저쩌고',\n",
       " '언어',\n",
       " '에는',\n",
       " '에서',\n",
       " '에요',\n",
       " '여쭈어',\n",
       " '영상',\n",
       " '오류',\n",
       " '왕초보',\n",
       " '요청',\n",
       " '유니티',\n",
       " '유튜브',\n",
       " '으로',\n",
       " '으로만',\n",
       " '이고',\n",
       " '이니까',\n",
       " '이든',\n",
       " '이런',\n",
       " '이미지',\n",
       " '이용',\n",
       " '인데',\n",
       " '인데요',\n",
       " '인식',\n",
       " '인지',\n",
       " '일련',\n",
       " '입니다',\n",
       " '입력',\n",
       " '있는',\n",
       " '있다면',\n",
       " '자동',\n",
       " '자바',\n",
       " '작성',\n",
       " '적분',\n",
       " '접속',\n",
       " '정도',\n",
       " '제대로',\n",
       " '중인',\n",
       " '진로',\n",
       " '질문',\n",
       " '참고',\n",
       " '창의력',\n",
       " '찾아야',\n",
       " '출력',\n",
       " '친구',\n",
       " '카톡',\n",
       " '코드',\n",
       " '코랩',\n",
       " '터미널',\n",
       " '터틀',\n",
       " '턴다',\n",
       " '털고',\n",
       " '트는',\n",
       " '파이썬',\n",
       " '파일',\n",
       " '편집',\n",
       " '프레임',\n",
       " '프로그래밍',\n",
       " '프로그램',\n",
       " '하고',\n",
       " '하고있는데',\n",
       " '하기',\n",
       " '하는',\n",
       " '하는데',\n",
       " '하는지',\n",
       " '하려고',\n",
       " '하면',\n",
       " '하시면',\n",
       " '하신다면',\n",
       " '한다고',\n",
       " '할지',\n",
       " '함수',\n",
       " '합니다',\n",
       " '해보려고하는데',\n",
       " '해본',\n",
       " '해봅니다',\n",
       " '해봤는데',\n",
       " '해서',\n",
       " '해여',\n",
       " '했는데',\n",
       " '했을',\n",
       " '현재',\n",
       " '협박',\n",
       " '활용']"
      ]
     },
     "execution_count": 50,
     "metadata": {},
     "output_type": "execute_result"
    }
   ],
   "source": [
    "vectorizer.get_feature_names()"
   ]
  },
  {
   "cell_type": "code",
   "execution_count": 52,
   "metadata": {},
   "outputs": [
    {
     "data": {
      "text/plain": [
       "[' 파이썬 을 배우는데 좋은 방법 이 어떤 것 인지 추천 해주세요']"
      ]
     },
     "execution_count": 52,
     "metadata": {},
     "output_type": "execute_result"
    }
   ],
   "source": [
    "new_post = ['파이썬을 배우는데 좋은 방법이 어떤 것인지 추천해주세요']\n",
    "new_post_tokens = [t.morphs(row) for row in new_post]\n",
    "\n",
    "new_post_for_vectorize = []\n",
    "\n",
    "for content in new_post_tokens:\n",
    "    sentence = ''\n",
    "    for word in content:\n",
    "        sentence = sentence + ' ' + word\n",
    "\n",
    "    new_post_for_vectorize.append(sentence)\n",
    "\n",
    "new_post_for_vectorize"
   ]
  },
  {
   "cell_type": "code",
   "execution_count": 53,
   "metadata": {},
   "outputs": [
    {
     "data": {
      "text/plain": [
       "array([[0, 0, 0, 0, 0, 0, 0, 0, 0, 0, 0, 0, 0, 0, 0, 0, 0, 0, 0, 0, 0, 0,\n",
       "        0, 0, 0, 0, 0, 0, 0, 0, 0, 0, 0, 0, 0, 0, 0, 0, 0, 0, 0, 0, 0, 0,\n",
       "        0, 0, 0, 0, 0, 0, 0, 0, 0, 0, 0, 0, 0, 0, 0, 0, 0, 0, 0, 0, 0, 0,\n",
       "        0, 0, 0, 0, 0, 0, 0, 0, 0, 0, 0, 0, 0, 0, 0, 0, 0, 0, 0, 0, 0, 0,\n",
       "        0, 0, 0, 0, 0, 0, 0, 0, 0, 0, 0, 0, 0, 0, 0, 0, 0, 0, 0, 0, 0, 0,\n",
       "        0, 0, 0, 0, 0, 0, 0, 0, 0, 0, 1, 0, 0, 0, 0, 0, 0, 0, 0, 0, 0, 0,\n",
       "        0, 0, 0, 0, 0, 0, 0, 0, 0, 0, 0, 0, 0, 1, 0, 0, 0, 0, 0, 0, 0, 0,\n",
       "        0, 0, 0, 0, 0, 0, 0, 0, 0, 0, 0, 0, 0, 0, 0, 0, 0, 0, 0, 0, 1, 0,\n",
       "        0, 0, 0, 0, 0, 0, 0, 0, 0, 0, 0, 0, 0, 0, 0, 0, 0, 0, 0, 0, 0, 0,\n",
       "        0, 0, 0, 0, 0, 0, 0]])"
      ]
     },
     "execution_count": 53,
     "metadata": {},
     "output_type": "execute_result"
    }
   ],
   "source": [
    "new_post_vec = vectorizer.transform(new_post_for_vectorize)\n",
    "new_post_vec.toarray()"
   ]
  },
  {
   "cell_type": "markdown",
   "metadata": {},
   "source": [
    "## 유클리드 거리"
   ]
  },
  {
   "cell_type": "code",
   "execution_count": 55,
   "metadata": {},
   "outputs": [],
   "source": [
    "import scipy as sp\n",
    "\n",
    "def dist_raw(v1, v2):\n",
    "    delta = v1 - v2\n",
    "    return sp.linalg.norm(delta.toarray())"
   ]
  },
  {
   "cell_type": "code",
   "execution_count": 56,
   "metadata": {},
   "outputs": [
    {
     "data": {
      "text/plain": [
       "[7.14142842854285,\n",
       " 6.4031242374328485,\n",
       " 7.483314773547883,\n",
       " 5.291502622129181,\n",
       " 6.082762530298219,\n",
       " 6.855654600401044,\n",
       " 6.557438524302,\n",
       " 5.830951894845301,\n",
       " 5.744562646538029,\n",
       " 7.0]"
      ]
     },
     "execution_count": 56,
     "metadata": {},
     "output_type": "execute_result"
    }
   ],
   "source": [
    "dist = [dist_raw(each, new_post_vec) for each in X]\n",
    "dist"
   ]
  },
  {
   "cell_type": "code",
   "execution_count": 57,
   "metadata": {},
   "outputs": [
    {
     "name": "stdout",
     "output_type": "stream",
     "text": [
      "Best post is  3 , dist =  5.291502622129181\n",
      "test post is -->  ['파이썬을 배우는데 좋은 방법이 어떤 것인지 추천해주세요']\n",
      "best dist post is -->  ... 사람은 파이썬을 써서 둘 중 어떤걸 써야할지, 두 프로그램의 쓰임새는 무엇인지 (예: 파이썬은 ~~개발할때... 하고 싶어서 여쭈어봅니다 ㅠㅠ vscode는 소스 코드 편집기이고 소스코드에는 파이썬 자바 등등이 되겠습니다~ \n"
     ]
    }
   ],
   "source": [
    "print('Best post is ', dist.index(min(dist)), ', dist = ', min(dist))\n",
    "print('test post is --> ', new_post)\n",
    "print('best dist post is --> ', contents[dist.index(min(dist))])"
   ]
  },
  {
   "cell_type": "markdown",
   "metadata": {},
   "source": [
    "## normalize로 거리 구하기"
   ]
  },
  {
   "cell_type": "code",
   "execution_count": 58,
   "metadata": {},
   "outputs": [
    {
     "name": "stdout",
     "output_type": "stream",
     "text": [
      "Best post is  3 , dist =  1.011978224593527\n",
      "test post is -->  ['파이썬을 배우는데 좋은 방법이 어떤 것인지 추천해주세요']\n",
      "best dist post is -->  ... 사람은 파이썬을 써서 둘 중 어떤걸 써야할지, 두 프로그램의 쓰임새는 무엇인지 (예: 파이썬은 ~~개발할때... 하고 싶어서 여쭈어봅니다 ㅠㅠ vscode는 소스 코드 편집기이고 소스코드에는 파이썬 자바 등등이 되겠습니다~ \n"
     ]
    }
   ],
   "source": [
    "dist = [dist_norm(each, new_post_vec) for each in X]\n",
    "\n",
    "print('Best post is ', dist.index(min(dist)), ', dist = ', min(dist))\n",
    "print('test post is --> ', new_post)\n",
    "print('best dist post is --> ', contents[dist.index(min(dist))])"
   ]
  },
  {
   "cell_type": "markdown",
   "metadata": {},
   "source": [
    "## TF-IDF"
   ]
  },
  {
   "cell_type": "code",
   "execution_count": 59,
   "metadata": {},
   "outputs": [],
   "source": [
    "def tfidf(t, d, D):\n",
    "    tf = float(d.count(t)) / sum(d.count(w) for w in set(d))\n",
    "    idf = sp.log(float(len(D)) / len([doc for doc in D if t in doc]))\n",
    "    return tf * idf"
   ]
  },
  {
   "cell_type": "code",
   "execution_count": null,
   "metadata": {},
   "outputs": [],
   "source": [
    "from sklearn.feature_extraction.text import TfidfVectorizer\n",
    "vectorizer = TfidfVectorizer(min_df=1, decode_error='ignore')"
   ]
  },
  {
   "cell_type": "code",
   "execution_count": 60,
   "metadata": {},
   "outputs": [
    {
     "data": {
      "text/plain": [
       "(10, 205)"
      ]
     },
     "execution_count": 60,
     "metadata": {},
     "output_type": "execute_result"
    }
   ],
   "source": [
    "X = vectorizer.fit_transform(contents_for_vectorize)\n",
    "num_samples, num_features = X.shape\n",
    "num_samples, num_features"
   ]
  },
  {
   "cell_type": "code",
   "execution_count": 62,
   "metadata": {},
   "outputs": [
    {
     "data": {
      "text/plain": [
       "array([[0, 0, 0, 0, 0, 0, 0, 0, 0, 0, 0, 0, 0, 0, 0, 0, 0, 0, 0, 0, 0, 0,\n",
       "        0, 0, 0, 0, 0, 0, 0, 0, 0, 0, 0, 0, 0, 0, 0, 0, 0, 0, 0, 0, 0, 0,\n",
       "        0, 0, 0, 0, 0, 0, 0, 0, 0, 0, 0, 0, 0, 0, 0, 0, 0, 0, 0, 0, 0, 0,\n",
       "        0, 0, 0, 0, 0, 0, 0, 0, 0, 0, 0, 0, 0, 0, 0, 0, 0, 0, 0, 0, 0, 0,\n",
       "        0, 0, 0, 0, 0, 0, 0, 0, 0, 0, 0, 0, 0, 0, 0, 0, 0, 0, 0, 0, 0, 0,\n",
       "        0, 0, 0, 0, 0, 0, 0, 0, 0, 0, 1, 0, 0, 0, 0, 0, 0, 0, 0, 0, 0, 0,\n",
       "        0, 0, 0, 0, 0, 0, 0, 0, 0, 0, 0, 0, 0, 1, 0, 0, 0, 0, 0, 0, 0, 0,\n",
       "        0, 0, 0, 0, 0, 0, 0, 0, 0, 0, 0, 0, 0, 0, 0, 0, 0, 0, 0, 0, 1, 0,\n",
       "        0, 0, 0, 0, 0, 0, 0, 0, 0, 0, 0, 0, 0, 0, 0, 0, 0, 0, 0, 0, 0, 0,\n",
       "        0, 0, 0, 0, 0, 0, 0]])"
      ]
     },
     "execution_count": 62,
     "metadata": {},
     "output_type": "execute_result"
    }
   ],
   "source": [
    "new_post_vec = vectorizer.transform(new_post_for_vectorize)\n",
    "new_post_vec.toarray()"
   ]
  },
  {
   "cell_type": "code",
   "execution_count": 63,
   "metadata": {},
   "outputs": [
    {
     "name": "stdout",
     "output_type": "stream",
     "text": [
      "Best post is  3 , dist =  1.011978224593527\n",
      "test post is -->  ['파이썬을 배우는데 좋은 방법이 어떤 것인지 추천해주세요']\n",
      "best dist post is -->  ... 사람은 파이썬을 써서 둘 중 어떤걸 써야할지, 두 프로그램의 쓰임새는 무엇인지 (예: 파이썬은 ~~개발할때... 하고 싶어서 여쭈어봅니다 ㅠㅠ vscode는 소스 코드 편집기이고 소스코드에는 파이썬 자바 등등이 되겠습니다~ \n"
     ]
    }
   ],
   "source": [
    "dist = [dist_norm(each, new_post_vec) for each in X]\n",
    "\n",
    "print('Best post is ', dist.index(min(dist)), ', dist = ', min(dist))\n",
    "print('test post is --> ', new_post)\n",
    "print('best dist post is --> ', contents[dist.index(min(dist))])"
   ]
  }
 ],
 "metadata": {
  "kernelspec": {
   "display_name": "Python 3.8.10 ('nltk')",
   "language": "python",
   "name": "python3"
  },
  "language_info": {
   "codemirror_mode": {
    "name": "ipython",
    "version": 3
   },
   "file_extension": ".py",
   "mimetype": "text/x-python",
   "name": "python",
   "nbconvert_exporter": "python",
   "pygments_lexer": "ipython3",
   "version": "3.8.10"
  },
  "orig_nbformat": 4,
  "vscode": {
   "interpreter": {
    "hash": "4c12d5ad393cf67d5ffcabf9296a2b27909634e48c1ecb1b8c18d053f15eb34c"
   }
  }
 },
 "nbformat": 4,
 "nbformat_minor": 2
}
